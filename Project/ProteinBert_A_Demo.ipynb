{
  "nbformat": 4,
  "nbformat_minor": 0,
  "metadata": {
    "colab": {
      "provenance": [],
      "machine_shape": "hm",
      "authorship_tag": "ABX9TyNS6d0+rQdG+5U+DC7BoUxc",
      "include_colab_link": true
    },
    "kernelspec": {
      "name": "python3",
      "display_name": "Python 3"
    },
    "language_info": {
      "name": "python"
    },
    "gpuClass": "standard",
    "accelerator": "TPU"
  },
  "cells": [
    {
      "cell_type": "markdown",
      "metadata": {
        "id": "view-in-github",
        "colab_type": "text"
      },
      "source": [
        "<a href=\"https://colab.research.google.com/github/Lisker2/ML/blob/main/Project/ProteinBert_A_Demo.ipynb\" target=\"_parent\"><img src=\"https://colab.research.google.com/assets/colab-badge.svg\" alt=\"Open In Colab\"/></a>"
      ]
    },
    {
      "cell_type": "code",
      "source": [
        "!git clone https://github.com/nadavbra/shared_utils.git\n",
        "!git clone https://github.com/nadavbra/protein_bert\n",
        "!pip install protein-bert"
      ],
      "metadata": {
        "colab": {
          "base_uri": "https://localhost:8080/"
        },
        "id": "KK3uZIIVn8FF",
        "outputId": "f6b6381f-2cb6-48ae-c8be-e84436d78b0f"
      },
      "execution_count": 1,
      "outputs": [
        {
          "output_type": "stream",
          "name": "stdout",
          "text": [
            "Cloning into 'shared_utils'...\n",
            "remote: Enumerating objects: 48, done.\u001b[K\n",
            "remote: Counting objects: 100% (48/48), done.\u001b[K\n",
            "remote: Compressing objects: 100% (31/31), done.\u001b[K\n",
            "remote: Total 48 (delta 26), reused 37 (delta 15), pack-reused 0\u001b[K\n",
            "Unpacking objects: 100% (48/48), 22.66 KiB | 859.00 KiB/s, done.\n",
            "Cloning into 'protein_bert'...\n",
            "remote: Enumerating objects: 206, done.\u001b[K\n",
            "remote: Counting objects: 100% (85/85), done.\u001b[K\n",
            "remote: Compressing objects: 100% (44/44), done.\u001b[K\n",
            "remote: Total 206 (delta 52), reused 66 (delta 40), pack-reused 121\u001b[K\n",
            "Receiving objects: 100% (206/206), 23.43 MiB | 31.69 MiB/s, done.\n",
            "Resolving deltas: 100% (93/93), done.\n"
          ]
        }
      ]
    },
    {
      "cell_type": "code",
      "source": [
        "import tensorflow as tf\n",
        "import pandas as pd\n",
        "from tensorflow import keras\n",
        "import numpy as np\n",
        "import matplotlib.pyplot as plt\n",
        "from scipy.stats import spearmanr\n",
        "from sklearn.model_selection import train_test_split\n",
        "\n",
        "from proteinbert import OutputType, OutputSpec, FinetuningModelGenerator, load_pretrained_model, finetune, evaluate_by_len\n",
        "from proteinbert.conv_and_global_attention_model import get_model_with_hidden_layers_as_outputs\n",
        "from proteinbert import load_pretrained_model"
      ],
      "metadata": {
        "id": "B4nIQG6eoZDs"
      },
      "execution_count": 29,
      "outputs": []
    },
    {
      "cell_type": "code",
      "source": [
        "train = pd.read_csv('protein_bert/protein_benchmarks/stability.train.csv')[:2000]\n",
        "valid = pd.read_csv('protein_bert/protein_benchmarks/stability.valid.csv')[:300]\n",
        "test = pd.read_csv('protein_bert/protein_benchmarks/stability.test.csv')[:300]\n",
        "\n",
        "train_X = train['seq']\n",
        "valid_X = valid['seq']\n",
        "test_X = test['seq']"
      ],
      "metadata": {
        "id": "crDkr4Arozij"
      },
      "execution_count": 4,
      "outputs": []
    },
    {
      "cell_type": "code",
      "source": [
        "train_Y = train['label']\n",
        "valid_Y = valid['label']\n",
        "test_Y = test['label']"
      ],
      "metadata": {
        "id": "MP83abVwwFmH"
      },
      "execution_count": 5,
      "outputs": []
    },
    {
      "cell_type": "code",
      "source": [
        "train.head()"
      ],
      "metadata": {
        "colab": {
          "base_uri": "https://localhost:8080/",
          "height": 206
        },
        "id": "Kf5bs2zYpOvJ",
        "outputId": "c33a0807-0cff-4c5a-bb56-470de2c68375"
      },
      "execution_count": 6,
      "outputs": [
        {
          "output_type": "execute_result",
          "data": {
            "text/plain": [
              "                                                 seq  label\n",
              "0  DQSVRKLVRKLPDEGLDREKVKTYLDKLGVDREELQKFSDAIGLES...  -0.21\n",
              "1  GSSDIEITVEGKEQADKVIEEMKRRNLEVHVEEHNGQYIDKASLES...  -0.95\n",
              "2        GSSTERRTFDDETQARKAAEEAKKKGLQVTVTKENGQYHVDFN   0.42\n",
              "3  MLDDFTHELMLDDFTHELMLDDFTHELMLDDFTHELSSNGGGSNGS...   0.10\n",
              "4        GSSTQTITTTNKENAEQIAREAKKKGLDVTIRKNNGTWEIHWD   0.76"
            ],
            "text/html": [
              "\n",
              "  <div id=\"df-ae1ae95e-3d54-479c-926e-8abaef395dd3\">\n",
              "    <div class=\"colab-df-container\">\n",
              "      <div>\n",
              "<style scoped>\n",
              "    .dataframe tbody tr th:only-of-type {\n",
              "        vertical-align: middle;\n",
              "    }\n",
              "\n",
              "    .dataframe tbody tr th {\n",
              "        vertical-align: top;\n",
              "    }\n",
              "\n",
              "    .dataframe thead th {\n",
              "        text-align: right;\n",
              "    }\n",
              "</style>\n",
              "<table border=\"1\" class=\"dataframe\">\n",
              "  <thead>\n",
              "    <tr style=\"text-align: right;\">\n",
              "      <th></th>\n",
              "      <th>seq</th>\n",
              "      <th>label</th>\n",
              "    </tr>\n",
              "  </thead>\n",
              "  <tbody>\n",
              "    <tr>\n",
              "      <th>0</th>\n",
              "      <td>DQSVRKLVRKLPDEGLDREKVKTYLDKLGVDREELQKFSDAIGLES...</td>\n",
              "      <td>-0.21</td>\n",
              "    </tr>\n",
              "    <tr>\n",
              "      <th>1</th>\n",
              "      <td>GSSDIEITVEGKEQADKVIEEMKRRNLEVHVEEHNGQYIDKASLES...</td>\n",
              "      <td>-0.95</td>\n",
              "    </tr>\n",
              "    <tr>\n",
              "      <th>2</th>\n",
              "      <td>GSSTERRTFDDETQARKAAEEAKKKGLQVTVTKENGQYHVDFN</td>\n",
              "      <td>0.42</td>\n",
              "    </tr>\n",
              "    <tr>\n",
              "      <th>3</th>\n",
              "      <td>MLDDFTHELMLDDFTHELMLDDFTHELMLDDFTHELSSNGGGSNGS...</td>\n",
              "      <td>0.10</td>\n",
              "    </tr>\n",
              "    <tr>\n",
              "      <th>4</th>\n",
              "      <td>GSSTQTITTTNKENAEQIAREAKKKGLDVTIRKNNGTWEIHWD</td>\n",
              "      <td>0.76</td>\n",
              "    </tr>\n",
              "  </tbody>\n",
              "</table>\n",
              "</div>\n",
              "      <button class=\"colab-df-convert\" onclick=\"convertToInteractive('df-ae1ae95e-3d54-479c-926e-8abaef395dd3')\"\n",
              "              title=\"Convert this dataframe to an interactive table.\"\n",
              "              style=\"display:none;\">\n",
              "        \n",
              "  <svg xmlns=\"http://www.w3.org/2000/svg\" height=\"24px\"viewBox=\"0 0 24 24\"\n",
              "       width=\"24px\">\n",
              "    <path d=\"M0 0h24v24H0V0z\" fill=\"none\"/>\n",
              "    <path d=\"M18.56 5.44l.94 2.06.94-2.06 2.06-.94-2.06-.94-.94-2.06-.94 2.06-2.06.94zm-11 1L8.5 8.5l.94-2.06 2.06-.94-2.06-.94L8.5 2.5l-.94 2.06-2.06.94zm10 10l.94 2.06.94-2.06 2.06-.94-2.06-.94-.94-2.06-.94 2.06-2.06.94z\"/><path d=\"M17.41 7.96l-1.37-1.37c-.4-.4-.92-.59-1.43-.59-.52 0-1.04.2-1.43.59L10.3 9.45l-7.72 7.72c-.78.78-.78 2.05 0 2.83L4 21.41c.39.39.9.59 1.41.59.51 0 1.02-.2 1.41-.59l7.78-7.78 2.81-2.81c.8-.78.8-2.07 0-2.86zM5.41 20L4 18.59l7.72-7.72 1.47 1.35L5.41 20z\"/>\n",
              "  </svg>\n",
              "      </button>\n",
              "      \n",
              "  <style>\n",
              "    .colab-df-container {\n",
              "      display:flex;\n",
              "      flex-wrap:wrap;\n",
              "      gap: 12px;\n",
              "    }\n",
              "\n",
              "    .colab-df-convert {\n",
              "      background-color: #E8F0FE;\n",
              "      border: none;\n",
              "      border-radius: 50%;\n",
              "      cursor: pointer;\n",
              "      display: none;\n",
              "      fill: #1967D2;\n",
              "      height: 32px;\n",
              "      padding: 0 0 0 0;\n",
              "      width: 32px;\n",
              "    }\n",
              "\n",
              "    .colab-df-convert:hover {\n",
              "      background-color: #E2EBFA;\n",
              "      box-shadow: 0px 1px 2px rgba(60, 64, 67, 0.3), 0px 1px 3px 1px rgba(60, 64, 67, 0.15);\n",
              "      fill: #174EA6;\n",
              "    }\n",
              "\n",
              "    [theme=dark] .colab-df-convert {\n",
              "      background-color: #3B4455;\n",
              "      fill: #D2E3FC;\n",
              "    }\n",
              "\n",
              "    [theme=dark] .colab-df-convert:hover {\n",
              "      background-color: #434B5C;\n",
              "      box-shadow: 0px 1px 3px 1px rgba(0, 0, 0, 0.15);\n",
              "      filter: drop-shadow(0px 1px 2px rgba(0, 0, 0, 0.3));\n",
              "      fill: #FFFFFF;\n",
              "    }\n",
              "  </style>\n",
              "\n",
              "      <script>\n",
              "        const buttonEl =\n",
              "          document.querySelector('#df-ae1ae95e-3d54-479c-926e-8abaef395dd3 button.colab-df-convert');\n",
              "        buttonEl.style.display =\n",
              "          google.colab.kernel.accessAllowed ? 'block' : 'none';\n",
              "\n",
              "        async function convertToInteractive(key) {\n",
              "          const element = document.querySelector('#df-ae1ae95e-3d54-479c-926e-8abaef395dd3');\n",
              "          const dataTable =\n",
              "            await google.colab.kernel.invokeFunction('convertToInteractive',\n",
              "                                                     [key], {});\n",
              "          if (!dataTable) return;\n",
              "\n",
              "          const docLinkHtml = 'Like what you see? Visit the ' +\n",
              "            '<a target=\"_blank\" href=https://colab.research.google.com/notebooks/data_table.ipynb>data table notebook</a>'\n",
              "            + ' to learn more about interactive tables.';\n",
              "          element.innerHTML = '';\n",
              "          dataTable['output_type'] = 'display_data';\n",
              "          await google.colab.output.renderOutput(dataTable, element);\n",
              "          const docLink = document.createElement('div');\n",
              "          docLink.innerHTML = docLinkHtml;\n",
              "          element.appendChild(docLink);\n",
              "        }\n",
              "      </script>\n",
              "    </div>\n",
              "  </div>\n",
              "  "
            ]
          },
          "metadata": {},
          "execution_count": 6
        }
      ]
    },
    {
      "cell_type": "code",
      "source": [
        "sequence_length = max(train.seq.map(lambda x: len(x)).max(), \n",
        "             test.seq.map(lambda x: len(x)).max(), \n",
        "             valid.seq.map(lambda x: len(x)).max()) + 2\n",
        "print('sequence_length', sequence_length)"
      ],
      "metadata": {
        "colab": {
          "base_uri": "https://localhost:8080/"
        },
        "id": "bZY3DoBzpR3w",
        "outputId": "1d84074e-ccf1-4caa-f5b0-e5ded90d5fbe"
      },
      "execution_count": 7,
      "outputs": [
        {
          "output_type": "stream",
          "name": "stdout",
          "text": [
            "sequence_length 52\n"
          ]
        }
      ]
    },
    {
      "cell_type": "code",
      "source": [
        "pretrained_model_generator, input_encoder = load_pretrained_model(\"/content/\")"
      ],
      "metadata": {
        "colab": {
          "base_uri": "https://localhost:8080/"
        },
        "id": "wkIBEOCmqYcG",
        "outputId": "e3791540-1a65-4085-fe0d-9c9ebabe39a7"
      },
      "execution_count": 8,
      "outputs": [
        {
          "output_type": "stream",
          "name": "stdout",
          "text": [
            " Local model dump file /content/default.pkl doesn't exist. Will download ftp://ftp.cs.huji.ac.il/users/nadavb/protein_bert/epoch_92400_sample_23500000.pkl into /content/. Please approve or reject this (to exit and potentially call the function again with different parameters).\n",
            "Do you approve downloadig the file into the specified directory? Please specify \"Yes\" or \"No\":yes\n",
            "Downloaded file: /content/epoch_92400_sample_23500000.pkl\n",
            "Created: /content/default.pkl\n"
          ]
        }
      ]
    },
    {
      "cell_type": "code",
      "source": [
        "print(type(train_X))\n",
        "print(train_X.shape)"
      ],
      "metadata": {
        "colab": {
          "base_uri": "https://localhost:8080/"
        },
        "id": "4D2OZ7MTt_ZK",
        "outputId": "47c640fd-1057-48ae-f342-df3b1012d0b4"
      },
      "execution_count": 9,
      "outputs": [
        {
          "output_type": "stream",
          "name": "stdout",
          "text": [
            "<class 'pandas.core.series.Series'>\n",
            "(2000,)\n"
          ]
        }
      ]
    },
    {
      "cell_type": "code",
      "source": [
        "train_X = input_encoder.encode_X(train_X, sequence_length)\n",
        "valid_X = input_encoder.encode_X(valid_X, sequence_length)\n",
        "test_X = input_encoder.encode_X(test_X, sequence_length)"
      ],
      "metadata": {
        "id": "1w2yUQfXtwef"
      },
      "execution_count": 10,
      "outputs": []
    },
    {
      "cell_type": "code",
      "source": [
        "model_generator = get_model_with_hidden_layers_as_outputs(pretrained_model_generator.create_model(sequence_length))"
      ],
      "metadata": {
        "colab": {
          "base_uri": "https://localhost:8080/"
        },
        "id": "OCebSBAgrUFY",
        "outputId": "53192a46-b5af-44f2-d16d-072359cea873"
      },
      "execution_count": 11,
      "outputs": [
        {
          "output_type": "stream",
          "name": "stderr",
          "text": [
            "WARNING:absl:`lr` is deprecated in Keras optimizer, please use `learning_rate` or use the legacy optimizer, e.g.,tf.keras.optimizers.legacy.Adam.\n"
          ]
        }
      ]
    },
    {
      "cell_type": "code",
      "source": [
        "local_representations_train, global_representations_train= model_generator.predict(train_X, batch_size = 64)\n",
        "local_representations_valid, global_representations_valid= model_generator.predict(valid_X, batch_size = 64)\n",
        "local_representations_test, global_representations_test= model_generator.predict(test_X, batch_size = 64)"
      ],
      "metadata": {
        "colab": {
          "base_uri": "https://localhost:8080/"
        },
        "id": "YIHqBmE9vXnu",
        "outputId": "d281c874-468d-4f7b-800a-7e099d445632"
      },
      "execution_count": 12,
      "outputs": [
        {
          "output_type": "stream",
          "name": "stdout",
          "text": [
            "32/32 [==============================] - 5s 73ms/step\n",
            "5/5 [==============================] - 0s 69ms/step\n",
            "5/5 [==============================] - 0s 69ms/step\n"
          ]
        }
      ]
    },
    {
      "cell_type": "code",
      "source": [
        "model_stability = tf.keras.models.Sequential([\n",
        "    tf.keras.layers.Flatten(input_shape = local_representations_train[0].shape),\n",
        "    tf.keras.layers.Dense(1, activation = 'linear')]\n",
        ")\n",
        "model_stability.compile(loss='mse',\n",
        "                  optimizer='adam',\n",
        "                  metrics=['mse'])\n",
        "training_callbacks = [\n",
        "    tf.keras.callbacks.ReduceLROnPlateau(patience = 1, factor = 0.25, min_lr = 1e-05, verbose = 1),\n",
        "    tf.keras.callbacks.EarlyStopping(patience = 2, restore_best_weights = True),\n",
        "]\n",
        "history_stability = model_stability.fit(local_representations_train, train_Y, \n",
        "                                validation_data=(local_representations_valid, valid_Y), \n",
        "                                batch_size=64, epochs=30,\n",
        "                                callbacks=training_callbacks)"
      ],
      "metadata": {
        "colab": {
          "base_uri": "https://localhost:8080/"
        },
        "id": "PWDaCsYNwN3S",
        "outputId": "ef0f20aa-81db-4082-f5e6-b6e31a7224d3"
      },
      "execution_count": 18,
      "outputs": [
        {
          "output_type": "stream",
          "name": "stdout",
          "text": [
            "Epoch 1/30\n",
            "32/32 [==============================] - 1s 15ms/step - loss: 2.2681 - mse: 2.2681 - val_loss: 0.9886 - val_mse: 0.9886 - lr: 0.0010\n",
            "Epoch 2/30\n",
            "32/32 [==============================] - 0s 9ms/step - loss: 0.3475 - mse: 0.3475 - val_loss: 0.2877 - val_mse: 0.2877 - lr: 0.0010\n",
            "Epoch 3/30\n",
            "32/32 [==============================] - 0s 8ms/step - loss: 0.2093 - mse: 0.2093 - val_loss: 0.2776 - val_mse: 0.2776 - lr: 0.0010\n",
            "Epoch 4/30\n",
            "31/32 [============================>.] - ETA: 0s - loss: 0.1659 - mse: 0.1659\n",
            "Epoch 4: ReduceLROnPlateau reducing learning rate to 0.0002500000118743628.\n",
            "32/32 [==============================] - 0s 9ms/step - loss: 0.1653 - mse: 0.1653 - val_loss: 0.3156 - val_mse: 0.3156 - lr: 0.0010\n",
            "Epoch 5/30\n",
            "32/32 [==============================] - 0s 8ms/step - loss: 0.1347 - mse: 0.1347 - val_loss: 0.2578 - val_mse: 0.2578 - lr: 2.5000e-04\n",
            "Epoch 6/30\n",
            "25/32 [======================>.......] - ETA: 0s - loss: 0.1213 - mse: 0.1213\n",
            "Epoch 6: ReduceLROnPlateau reducing learning rate to 6.25000029685907e-05.\n",
            "32/32 [==============================] - 0s 8ms/step - loss: 0.1229 - mse: 0.1229 - val_loss: 0.2645 - val_mse: 0.2645 - lr: 2.5000e-04\n",
            "Epoch 7/30\n",
            "25/32 [======================>.......] - ETA: 0s - loss: 0.1197 - mse: 0.1197\n",
            "Epoch 7: ReduceLROnPlateau reducing learning rate to 1.5625000742147677e-05.\n",
            "32/32 [==============================] - 0s 8ms/step - loss: 0.1176 - mse: 0.1176 - val_loss: 0.2724 - val_mse: 0.2724 - lr: 6.2500e-05\n"
          ]
        }
      ]
    },
    {
      "cell_type": "code",
      "source": [
        "loss = history_stability.history['loss']\n",
        "\n",
        "plt.plot(range(len(loss)), loss, 'b', label='Training Loss')\n",
        "plt.title('Training loss')\n",
        "plt.legend()"
      ],
      "metadata": {
        "colab": {
          "base_uri": "https://localhost:8080/",
          "height": 470
        },
        "id": "G8OwvEiL3LX5",
        "outputId": "be13b992-0c7e-475c-f521-32594eb4b667"
      },
      "execution_count": 28,
      "outputs": [
        {
          "output_type": "execute_result",
          "data": {
            "text/plain": [
              "<matplotlib.legend.Legend at 0x7f08cc0daa90>"
            ]
          },
          "metadata": {},
          "execution_count": 28
        },
        {
          "output_type": "display_data",
          "data": {
            "text/plain": [
              "<Figure size 640x480 with 1 Axes>"
            ],
            "image/png": "[encoded data removed]"
          },
          "metadata": {}
        }
      ]
    },
    {
      "cell_type": "code",
      "source": [
        "predict_Y = model_stability.predict(local_representations_test)\n",
        "p, _ = spearmanr(predict_Y, test_Y)\n",
        "print(p)"
      ],
      "metadata": {
        "colab": {
          "base_uri": "https://localhost:8080/"
        },
        "id": "hwF7G2-S5HGA",
        "outputId": "70bc1eb7-5326-4f21-e899-e3d5a8598b3e"
      },
      "execution_count": 33,
      "outputs": [
        {
          "output_type": "stream",
          "name": "stdout",
          "text": [
            "10/10 [==============================] - 0s 2ms/step\n",
            "0.6226134309809512\n"
          ]
        }
      ]
    }
  ]
}