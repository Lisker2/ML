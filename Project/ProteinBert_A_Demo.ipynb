{
  "nbformat": 4,
  "nbformat_minor": 0,
  "metadata": {
    "colab": {
      "provenance": [],
      "machine_shape": "hm",
      "authorship_tag": "ABX9TyON5iyTeqsLvjDer2RkXIwY",
      "include_colab_link": true
    },
    "kernelspec": {
      "name": "python3",
      "display_name": "Python 3"
    },
    "language_info": {
      "name": "python"
    },
    "gpuClass": "standard",
    "accelerator": "TPU"
  },
  "cells": [
    {
      "cell_type": "markdown",
      "metadata": {
        "id": "view-in-github",
        "colab_type": "text"
      },
      "source": [
        "<a href=\"https://colab.research.google.com/github/Lisker2/ML/blob/main/Project/ProteinBert_A_Demo.ipynb\" target=\"_parent\"><img src=\"https://colab.research.google.com/assets/colab-badge.svg\" alt=\"Open In Colab\"/></a>"
      ]
    },
    {
      "cell_type": "code",
      "source": [
        "!git clone https://github.com/nadavbra/shared_utils.git\n",
        "!git clone https://github.com/nadavbra/protein_bert\n",
        "!git clone https://github.com/khanhlee/bert-enhancer\n",
        "!pip install protein-bert"
      ],
      "metadata": {
        "id": "KK3uZIIVn8FF"
      },
      "execution_count": null,
      "outputs": []
    },
    {
      "cell_type": "code",
      "source": [
        "!wget --no-check-certificate \\\n",
        "    https://storage.googleapis.com/mledu-datasets/inception_v3_weights_tf_dim_ordering_tf_kernels_notop.h5 \\\n",
        "    -O /tmp/inception_v3_weights_tf_dim_ordering_tf_kernels_notop.h5"
      ],
      "metadata": {
        "id": "43T-G_B8AyQc"
      },
      "execution_count": null,
      "outputs": []
    },
    {
      "cell_type": "code",
      "source": [
        "import tensorflow as tf\n",
        "import pandas as pd\n",
        "from tensorflow import keras\n",
        "import numpy as np\n",
        "import matplotlib.pyplot as plt\n",
        "from scipy.stats import spearmanr\n",
        "from sklearn.model_selection import train_test_split\n",
        "\n",
        "from proteinbert import OutputType, OutputSpec, FinetuningModelGenerator, load_pretrained_model, finetune, evaluate_by_len\n",
        "from proteinbert.conv_and_global_attention_model import get_model_with_hidden_layers_as_outputs\n",
        "from proteinbert import load_pretrained_model"
      ],
      "metadata": {
        "id": "B4nIQG6eoZDs"
      },
      "execution_count": 2,
      "outputs": []
    },
    {
      "cell_type": "code",
      "source": [
        "train = pd.read_csv('protein_bert/protein_benchmarks/stability.train.csv')[:10000]\n",
        "valid = pd.read_csv('protein_bert/protein_benchmarks/stability.valid.csv')[:1000]\n",
        "test = pd.read_csv('protein_bert/protein_benchmarks/stability.test.csv')[:1000]\n",
        "\n",
        "train_X = train['seq']\n",
        "valid_X = valid['seq']\n",
        "test_X = test['seq']"
      ],
      "metadata": {
        "id": "crDkr4Arozij"
      },
      "execution_count": 4,
      "outputs": []
    },
    {
      "cell_type": "code",
      "source": [
        "train_Y = train['label']\n",
        "valid_Y = valid['label']\n",
        "test_Y = test['label']"
      ],
      "metadata": {
        "id": "MP83abVwwFmH"
      },
      "execution_count": 15,
      "outputs": []
    },
    {
      "cell_type": "code",
      "source": [
        "train.head()"
      ],
      "metadata": {
        "colab": {
          "base_uri": "https://localhost:8080/",
          "height": 206
        },
        "id": "Kf5bs2zYpOvJ",
        "outputId": "343bcd0d-fbff-46bf-c128-d237a842d4c1"
      },
      "execution_count": 5,
      "outputs": [
        {
          "output_type": "execute_result",
          "data": {
            "text/plain": [
              "                                                 seq  label\n",
              "0  DQSVRKLVRKLPDEGLDREKVKTYLDKLGVDREELQKFSDAIGLES...  -0.21\n",
              "1  GSSDIEITVEGKEQADKVIEEMKRRNLEVHVEEHNGQYIDKASLES...  -0.95\n",
              "2        GSSTERRTFDDETQARKAAEEAKKKGLQVTVTKENGQYHVDFN   0.42\n",
              "3  MLDDFTHELMLDDFTHELMLDDFTHELMLDDFTHELSSNGGGSNGS...   0.10\n",
              "4        GSSTQTITTTNKENAEQIAREAKKKGLDVTIRKNNGTWEIHWD   0.76"
            ],
            "text/html": [
              "\n",
              "  <div id=\"df-cb01ffba-308b-4358-82f4-880794bcb800\">\n",
              "    <div class=\"colab-df-container\">\n",
              "      <div>\n",
              "<style scoped>\n",
              "    .dataframe tbody tr th:only-of-type {\n",
              "        vertical-align: middle;\n",
              "    }\n",
              "\n",
              "    .dataframe tbody tr th {\n",
              "        vertical-align: top;\n",
              "    }\n",
              "\n",
              "    .dataframe thead th {\n",
              "        text-align: right;\n",
              "    }\n",
              "</style>\n",
              "<table border=\"1\" class=\"dataframe\">\n",
              "  <thead>\n",
              "    <tr style=\"text-align: right;\">\n",
              "      <th></th>\n",
              "      <th>seq</th>\n",
              "      <th>label</th>\n",
              "    </tr>\n",
              "  </thead>\n",
              "  <tbody>\n",
              "    <tr>\n",
              "      <th>0</th>\n",
              "      <td>DQSVRKLVRKLPDEGLDREKVKTYLDKLGVDREELQKFSDAIGLES...</td>\n",
              "      <td>-0.21</td>\n",
              "    </tr>\n",
              "    <tr>\n",
              "      <th>1</th>\n",
              "      <td>GSSDIEITVEGKEQADKVIEEMKRRNLEVHVEEHNGQYIDKASLES...</td>\n",
              "      <td>-0.95</td>\n",
              "    </tr>\n",
              "    <tr>\n",
              "      <th>2</th>\n",
              "      <td>GSSTERRTFDDETQARKAAEEAKKKGLQVTVTKENGQYHVDFN</td>\n",
              "      <td>0.42</td>\n",
              "    </tr>\n",
              "    <tr>\n",
              "      <th>3</th>\n",
              "      <td>MLDDFTHELMLDDFTHELMLDDFTHELMLDDFTHELSSNGGGSNGS...</td>\n",
              "      <td>0.10</td>\n",
              "    </tr>\n",
              "    <tr>\n",
              "      <th>4</th>\n",
              "      <td>GSSTQTITTTNKENAEQIAREAKKKGLDVTIRKNNGTWEIHWD</td>\n",
              "      <td>0.76</td>\n",
              "    </tr>\n",
              "  </tbody>\n",
              "</table>\n",
              "</div>\n",
              "      <button class=\"colab-df-convert\" onclick=\"convertToInteractive('df-cb01ffba-308b-4358-82f4-880794bcb800')\"\n",
              "              title=\"Convert this dataframe to an interactive table.\"\n",
              "              style=\"display:none;\">\n",
              "        \n",
              "  <svg xmlns=\"http://www.w3.org/2000/svg\" height=\"24px\"viewBox=\"0 0 24 24\"\n",
              "       width=\"24px\">\n",
              "    <path d=\"M0 0h24v24H0V0z\" fill=\"none\"/>\n",
              "    <path d=\"M18.56 5.44l.94 2.06.94-2.06 2.06-.94-2.06-.94-.94-2.06-.94 2.06-2.06.94zm-11 1L8.5 8.5l.94-2.06 2.06-.94-2.06-.94L8.5 2.5l-.94 2.06-2.06.94zm10 10l.94 2.06.94-2.06 2.06-.94-2.06-.94-.94-2.06-.94 2.06-2.06.94z\"/><path d=\"M17.41 7.96l-1.37-1.37c-.4-.4-.92-.59-1.43-.59-.52 0-1.04.2-1.43.59L10.3 9.45l-7.72 7.72c-.78.78-.78 2.05 0 2.83L4 21.41c.39.39.9.59 1.41.59.51 0 1.02-.2 1.41-.59l7.78-7.78 2.81-2.81c.8-.78.8-2.07 0-2.86zM5.41 20L4 18.59l7.72-7.72 1.47 1.35L5.41 20z\"/>\n",
              "  </svg>\n",
              "      </button>\n",
              "      \n",
              "  <style>\n",
              "    .colab-df-container {\n",
              "      display:flex;\n",
              "      flex-wrap:wrap;\n",
              "      gap: 12px;\n",
              "    }\n",
              "\n",
              "    .colab-df-convert {\n",
              "      background-color: #E8F0FE;\n",
              "      border: none;\n",
              "      border-radius: 50%;\n",
              "      cursor: pointer;\n",
              "      display: none;\n",
              "      fill: #1967D2;\n",
              "      height: 32px;\n",
              "      padding: 0 0 0 0;\n",
              "      width: 32px;\n",
              "    }\n",
              "\n",
              "    .colab-df-convert:hover {\n",
              "      background-color: #E2EBFA;\n",
              "      box-shadow: 0px 1px 2px rgba(60, 64, 67, 0.3), 0px 1px 3px 1px rgba(60, 64, 67, 0.15);\n",
              "      fill: #174EA6;\n",
              "    }\n",
              "\n",
              "    [theme=dark] .colab-df-convert {\n",
              "      background-color: #3B4455;\n",
              "      fill: #D2E3FC;\n",
              "    }\n",
              "\n",
              "    [theme=dark] .colab-df-convert:hover {\n",
              "      background-color: #434B5C;\n",
              "      box-shadow: 0px 1px 3px 1px rgba(0, 0, 0, 0.15);\n",
              "      filter: drop-shadow(0px 1px 2px rgba(0, 0, 0, 0.3));\n",
              "      fill: #FFFFFF;\n",
              "    }\n",
              "  </style>\n",
              "\n",
              "      <script>\n",
              "        const buttonEl =\n",
              "          document.querySelector('#df-cb01ffba-308b-4358-82f4-880794bcb800 button.colab-df-convert');\n",
              "        buttonEl.style.display =\n",
              "          google.colab.kernel.accessAllowed ? 'block' : 'none';\n",
              "\n",
              "        async function convertToInteractive(key) {\n",
              "          const element = document.querySelector('#df-cb01ffba-308b-4358-82f4-880794bcb800');\n",
              "          const dataTable =\n",
              "            await google.colab.kernel.invokeFunction('convertToInteractive',\n",
              "                                                     [key], {});\n",
              "          if (!dataTable) return;\n",
              "\n",
              "          const docLinkHtml = 'Like what you see? Visit the ' +\n",
              "            '<a target=\"_blank\" href=https://colab.research.google.com/notebooks/data_table.ipynb>data table notebook</a>'\n",
              "            + ' to learn more about interactive tables.';\n",
              "          element.innerHTML = '';\n",
              "          dataTable['output_type'] = 'display_data';\n",
              "          await google.colab.output.renderOutput(dataTable, element);\n",
              "          const docLink = document.createElement('div');\n",
              "          docLink.innerHTML = docLinkHtml;\n",
              "          element.appendChild(docLink);\n",
              "        }\n",
              "      </script>\n",
              "    </div>\n",
              "  </div>\n",
              "  "
            ]
          },
          "metadata": {},
          "execution_count": 5
        }
      ]
    },
    {
      "cell_type": "code",
      "source": [
        "sequence_length = max(train.seq.map(lambda x: len(x)).max(), \n",
        "             test.seq.map(lambda x: len(x)).max(), \n",
        "             valid.seq.map(lambda x: len(x)).max()) + 2\n",
        "print('sequence_length', sequence_length)"
      ],
      "metadata": {
        "colab": {
          "base_uri": "https://localhost:8080/"
        },
        "id": "bZY3DoBzpR3w",
        "outputId": "f2d55639-273d-4567-8a05-49d55e5ecf05"
      },
      "execution_count": 6,
      "outputs": [
        {
          "output_type": "stream",
          "name": "stdout",
          "text": [
            "sequence_length 52\n"
          ]
        }
      ]
    },
    {
      "cell_type": "code",
      "source": [
        "pretrained_model_generator, input_encoder = load_pretrained_model(\"/content/\")"
      ],
      "metadata": {
        "id": "wkIBEOCmqYcG"
      },
      "execution_count": 9,
      "outputs": []
    },
    {
      "cell_type": "code",
      "source": [
        "print(type(train_X))\n",
        "print(train_X.shape)"
      ],
      "metadata": {
        "colab": {
          "base_uri": "https://localhost:8080/"
        },
        "id": "4D2OZ7MTt_ZK",
        "outputId": "eed8cd22-dbe1-49e9-e5b1-6436596e1873"
      },
      "execution_count": 8,
      "outputs": [
        {
          "output_type": "stream",
          "name": "stdout",
          "text": [
            "<class 'pandas.core.series.Series'>\n",
            "(10000,)\n"
          ]
        }
      ]
    },
    {
      "cell_type": "code",
      "source": [
        "train_X = input_encoder.encode_X(train_X, sequence_length)\n",
        "valid_X = input_encoder.encode_X(valid_X, sequence_length)\n",
        "test_X = input_encoder.encode_X(test_X, sequence_length)"
      ],
      "metadata": {
        "id": "1w2yUQfXtwef"
      },
      "execution_count": 9,
      "outputs": []
    },
    {
      "cell_type": "code",
      "source": [
        "model_generator = get_model_with_hidden_layers_as_outputs(pretrained_model_generator.create_model(sequence_length))"
      ],
      "metadata": {
        "colab": {
          "base_uri": "https://localhost:8080/"
        },
        "id": "OCebSBAgrUFY",
        "outputId": "5fe97931-6aea-47af-c091-3239dfffdcba"
      },
      "execution_count": 10,
      "outputs": [
        {
          "output_type": "stream",
          "name": "stderr",
          "text": [
            "WARNING:absl:`lr` is deprecated in Keras optimizer, please use `learning_rate` or use the legacy optimizer, e.g.,tf.keras.optimizers.legacy.Adam.\n"
          ]
        }
      ]
    },
    {
      "cell_type": "code",
      "source": [
        "local_representations_train, global_representations_train= model_generator.predict(train_X, batch_size = 64)\n",
        "local_representations_valid, global_representations_valid= model_generator.predict(valid_X, batch_size = 64)\n",
        "local_representations_test, global_representations_test= model_generator.predict(test_X, batch_size = 64)"
      ],
      "metadata": {
        "colab": {
          "base_uri": "https://localhost:8080/"
        },
        "id": "YIHqBmE9vXnu",
        "outputId": "4159a1ab-62e3-4164-c4ba-e9d591394599"
      },
      "execution_count": 11,
      "outputs": [
        {
          "output_type": "stream",
          "name": "stdout",
          "text": [
            "157/157 [==============================] - 18s 98ms/step\n",
            "16/16 [==============================] - 1s 86ms/step\n",
            "16/16 [==============================] - 1s 85ms/step\n"
          ]
        }
      ]
    },
    {
      "cell_type": "code",
      "source": [
        "print(local_representations_train.shape)"
      ],
      "metadata": {
        "colab": {
          "base_uri": "https://localhost:8080/"
        },
        "id": "r8JDgoDZ9ufh",
        "outputId": "d3517d47-0640-42ad-c2d9-06ab24503165"
      },
      "execution_count": 12,
      "outputs": [
        {
          "output_type": "stream",
          "name": "stdout",
          "text": [
            "(10000, 52, 1562)\n"
          ]
        }
      ]
    },
    {
      "cell_type": "code",
      "source": [
        "model_stability = tf.keras.models.Sequential([\n",
        "    tf.keras.layers.Flatten(input_shape = local_representations_train[0].shape),\n",
        "    \n",
        "    tf.keras.layers.Dense(1, activation = 'linear')]\n",
        ")\n",
        "model_stability.compile(loss='mse',\n",
        "                  optimizer='adam',\n",
        "                  metrics=['mse'])\n",
        "training_callbacks = [\n",
        "    tf.keras.callbacks.ReduceLROnPlateau(patience = 1, factor = 0.25, min_lr = 1e-10, verbose = 1),\n",
        "    tf.keras.callbacks.EarlyStopping(patience = 2, restore_best_weights = True),\n",
        "]\n",
        "history_stability = model_stability.fit(local_representations_train, train_Y, \n",
        "                                validation_data=(local_representations_valid, valid_Y), \n",
        "                                batch_size=64, epochs=30,\n",
        "                                callbacks=training_callbacks)"
      ],
      "metadata": {
        "colab": {
          "base_uri": "https://localhost:8080/"
        },
        "id": "PWDaCsYNwN3S",
        "outputId": "8267c0f0-412b-4163-f60b-5e09d3512094"
      },
      "execution_count": 21,
      "outputs": [
        {
          "output_type": "stream",
          "name": "stdout",
          "text": [
            "Epoch 1/30\n",
            "157/157 [==============================] - 3s 15ms/step - loss: 0.6546 - mse: 0.6546 - val_loss: 0.2572 - val_mse: 0.2572 - lr: 0.0010\n",
            "Epoch 2/30\n",
            "153/157 [============================>.] - ETA: 0s - loss: 0.2762 - mse: 0.2762\n",
            "Epoch 2: ReduceLROnPlateau reducing learning rate to 0.0002500000118743628.\n",
            "157/157 [==============================] - 1s 9ms/step - loss: 0.2765 - mse: 0.2765 - val_loss: 0.2948 - val_mse: 0.2948 - lr: 0.0010\n",
            "Epoch 3/30\n",
            "157/157 [==============================] - 1s 9ms/step - loss: 0.2049 - mse: 0.2049 - val_loss: 0.2422 - val_mse: 0.2422 - lr: 2.5000e-04\n",
            "Epoch 4/30\n",
            "155/157 [============================>.] - ETA: 0s - loss: 0.1832 - mse: 0.1832\n",
            "Epoch 4: ReduceLROnPlateau reducing learning rate to 6.25000029685907e-05.\n",
            "157/157 [==============================] - 1s 9ms/step - loss: 0.1828 - mse: 0.1828 - val_loss: 0.2471 - val_mse: 0.2471 - lr: 2.5000e-04\n",
            "Epoch 5/30\n",
            "157/157 [==============================] - 1s 9ms/step - loss: 0.1638 - mse: 0.1638 - val_loss: 0.2281 - val_mse: 0.2281 - lr: 6.2500e-05\n",
            "Epoch 6/30\n",
            "154/157 [============================>.] - ETA: 0s - loss: 0.1613 - mse: 0.1613\n",
            "Epoch 6: ReduceLROnPlateau reducing learning rate to 1.5625000742147677e-05.\n",
            "157/157 [==============================] - 1s 9ms/step - loss: 0.1615 - mse: 0.1615 - val_loss: 0.2296 - val_mse: 0.2296 - lr: 6.2500e-05\n",
            "Epoch 7/30\n",
            "157/157 [==============================] - 1s 9ms/step - loss: 0.1543 - mse: 0.1543 - val_loss: 0.2209 - val_mse: 0.2209 - lr: 1.5625e-05\n",
            "Epoch 8/30\n",
            "151/157 [===========================>..] - ETA: 0s - loss: 0.1537 - mse: 0.1537\n",
            "Epoch 8: ReduceLROnPlateau reducing learning rate to 3.906250185536919e-06.\n",
            "157/157 [==============================] - 1s 9ms/step - loss: 0.1536 - mse: 0.1536 - val_loss: 0.2228 - val_mse: 0.2228 - lr: 1.5625e-05\n",
            "Epoch 9/30\n",
            "153/157 [============================>.] - ETA: 0s - loss: 0.1514 - mse: 0.1514\n",
            "Epoch 9: ReduceLROnPlateau reducing learning rate to 9.765625463842298e-07.\n",
            "157/157 [==============================] - 1s 9ms/step - loss: 0.1521 - mse: 0.1521 - val_loss: 0.2234 - val_mse: 0.2234 - lr: 3.9063e-06\n"
          ]
        }
      ]
    },
    {
      "cell_type": "code",
      "source": [
        "loss = history_stability.history['loss']\n",
        "\n",
        "plt.plot(range(len(loss)), loss, 'b', label='Training Loss')\n",
        "plt.title('Training loss')\n",
        "plt.legend()"
      ],
      "metadata": {
        "colab": {
          "base_uri": "https://localhost:8080/",
          "height": 470
        },
        "id": "G8OwvEiL3LX5",
        "outputId": "8ef7d118-8fe0-484f-f0a8-01a713c16cfe"
      },
      "execution_count": 17,
      "outputs": [
        {
          "output_type": "execute_result",
          "data": {
            "text/plain": [
              "<matplotlib.legend.Legend at 0x7f963019bf40>"
            ]
          },
          "metadata": {},
          "execution_count": 17
        },
        {
          "output_type": "display_data",
          "data": {
            "text/plain": [
              "<Figure size 640x480 with 1 Axes>"
            ],
            "image/png": "[encoded data removed]"
          },
          "metadata": {}
        }
      ]
    },
    {
      "cell_type": "code",
      "source": [
        "predict_Y = model_stability.predict(local_representations_test)\n",
        "p, _ = spearmanr(predict_Y, test_Y)\n",
        "print(p)"
      ],
      "metadata": {
        "colab": {
          "base_uri": "https://localhost:8080/"
        },
        "id": "hwF7G2-S5HGA",
        "outputId": "2f7e8a3e-4702-470a-ff35-8f2fa73bf1dc"
      },
      "execution_count": 19,
      "outputs": [
        {
          "output_type": "stream",
          "name": "stdout",
          "text": [
            "32/32 [==============================] - 0s 3ms/step\n",
            "0.41706737486869766\n"
          ]
        }
      ]
    },
    {
      "cell_type": "code",
      "source": [
        "model_stability_cnn = tf.keras.models.Sequential([\n",
        "    tf.keras.layers.Conv2D(16, (3,3), activation='relu', input_shape=(52, 1562, 1)),\n",
        "    tf.keras.layers.MaxPooling2D(2,2),\n",
        "    tf.keras.layers.Flatten(), \n",
        "    tf.keras.layers.Dense(16, activation='relu'), \n",
        "    tf.keras.layers.Dense(1, activation = 'linear')]\n",
        ")\n",
        "model_stability_cnn.compile(loss='mse',\n",
        "                  optimizer='adam',\n",
        "                  metrics=['mse'])\n",
        "training_callbacks = [\n",
        "    tf.keras.callbacks.ReduceLROnPlateau(patience = 1, factor = 0.25, min_lr = 1e-10, verbose = 1),\n",
        "    tf.keras.callbacks.EarlyStopping(patience = 2, restore_best_weights = True),\n",
        "]\n",
        "history_stability_cnn = model_stability_cnn.fit(local_representations_train, train_Y, \n",
        "                                validation_data=(local_representations_valid, valid_Y), \n",
        "                                batch_size=64, epochs=30,\n",
        "                                callbacks=training_callbacks)"
      ],
      "metadata": {
        "colab": {
          "base_uri": "https://localhost:8080/"
        },
        "id": "CWsYCzLDCai6",
        "outputId": "4603a2bf-86a2-4ba6-bcca-edab8bc00297"
      },
      "execution_count": null,
      "outputs": [
        {
          "output_type": "stream",
          "name": "stdout",
          "text": [
            "Epoch 1/30\n",
            "157/157 [==============================] - 49s 306ms/step - loss: 0.8210 - mse: 0.8210 - val_loss: 0.5036 - val_mse: 0.5036 - lr: 0.0010\n",
            "Epoch 2/30\n",
            "157/157 [==============================] - 48s 306ms/step - loss: 0.3452 - mse: 0.3452 - val_loss: 0.4873 - val_mse: 0.4873 - lr: 0.0010\n",
            "Epoch 3/30\n",
            "157/157 [==============================] - 48s 305ms/step - loss: 0.3358 - mse: 0.3358 - val_loss: 0.4732 - val_mse: 0.4732 - lr: 0.0010\n",
            "Epoch 4/30\n",
            "157/157 [==============================] - 48s 303ms/step - loss: 0.3302 - mse: 0.3302 - val_loss: 0.4637 - val_mse: 0.4637 - lr: 0.0010\n",
            "Epoch 5/30\n",
            "157/157 [==============================] - 48s 304ms/step - loss: 0.3276 - mse: 0.3276 - val_loss: 0.4584 - val_mse: 0.4584 - lr: 0.0010\n",
            "Epoch 6/30\n",
            "157/157 [==============================] - 47s 302ms/step - loss: 0.3266 - mse: 0.3266 - val_loss: 0.4554 - val_mse: 0.4554 - lr: 0.0010\n",
            "Epoch 7/30\n",
            "157/157 [==============================] - 48s 304ms/step - loss: 0.3263 - mse: 0.3263 - val_loss: 0.4537 - val_mse: 0.4537 - lr: 0.0010\n",
            "Epoch 8/30\n",
            "157/157 [==============================] - 49s 313ms/step - loss: 0.3262 - mse: 0.3262 - val_loss: 0.4530 - val_mse: 0.4530 - lr: 0.0010\n",
            "Epoch 9/30\n",
            "157/157 [==============================] - 48s 304ms/step - loss: 0.3261 - mse: 0.3261 - val_loss: 0.4526 - val_mse: 0.4526 - lr: 0.0010\n",
            "Epoch 10/30\n",
            "157/157 [==============================] - 49s 311ms/step - loss: 0.3261 - mse: 0.3261 - val_loss: 0.4524 - val_mse: 0.4524 - lr: 0.0010\n",
            "Epoch 11/30\n",
            "157/157 [==============================] - 51s 324ms/step - loss: 0.3261 - mse: 0.3261 - val_loss: 0.4523 - val_mse: 0.4523 - lr: 0.0010\n",
            "Epoch 12/30\n",
            "157/157 [==============================] - 51s 322ms/step - loss: 0.3261 - mse: 0.3261 - val_loss: 0.4518 - val_mse: 0.4518 - lr: 0.0010\n",
            "Epoch 13/30\n",
            "157/157 [==============================] - ETA: 0s - loss: 0.3262 - mse: 0.3262\n",
            "Epoch 13: ReduceLROnPlateau reducing learning rate to 0.0002500000118743628.\n",
            "157/157 [==============================] - 49s 314ms/step - loss: 0.3262 - mse: 0.3262 - val_loss: 0.4521 - val_mse: 0.4521 - lr: 0.0010\n",
            "Epoch 14/30\n",
            "157/157 [==============================] - ETA: 0s - loss: 0.3261 - mse: 0.3261\n",
            "Epoch 14: ReduceLROnPlateau reducing learning rate to 6.25000029685907e-05.\n",
            "157/157 [==============================] - 49s 312ms/step - loss: 0.3261 - mse: 0.3261 - val_loss: 0.4521 - val_mse: 0.4521 - lr: 2.5000e-04\n"
          ]
        }
      ]
    },
    {
      "cell_type": "code",
      "source": [
        "non_cv = pd.read_csv('bert-enhancer/data/non.cv.txt')[::2]\n",
        "non_cv.columns = ['seq']\n",
        "print((len(non_cv)))\n",
        "\n",
        "label_1 = [0 for i in range(len(non_cv))]\n",
        "non_cv['label'] = label_1\n",
        "\n",
        "enhancer_cv = pd.read_csv('bert-enhancer/data/enhancer.cv.txt')[::2]\n",
        "enhancer_cv.columns = ['seq']\n",
        "print((len(enhancer_cv)))\n",
        "\n",
        "label_1 = [1 for i in range(len(enhancer_cv))]\n",
        "enhancer_cv['label'] = label_1"
      ],
      "metadata": {
        "colab": {
          "base_uri": "https://localhost:8080/"
        },
        "id": "x8BoHbfskiuU",
        "outputId": "dbce1230-d509-4abb-d09f-dcf07f80eb6e"
      },
      "execution_count": 3,
      "outputs": [
        {
          "output_type": "stream",
          "name": "stdout",
          "text": [
            "1484\n",
            "1484\n"
          ]
        }
      ]
    },
    {
      "cell_type": "code",
      "source": [
        "enhancer_train = pd.concat([non_cv, enhancer_cv],axis=0)\n",
        "enhancer_train.index = range(len(enhancer_train))\n",
        "enhancer_train.head()"
      ],
      "metadata": {
        "colab": {
          "base_uri": "https://localhost:8080/",
          "height": 206
        },
        "id": "ESopLpQwmVV5",
        "outputId": "c2a6786b-8293-4474-af55-b21ecb5b8e4c"
      },
      "execution_count": 4,
      "outputs": [
        {
          "output_type": "execute_result",
          "data": {
            "text/plain": [
              "                                                 seq  label\n",
              "0  ATGCAAAATGGGAATGCATGAGACAGGTGGGAAAGAGAGGGAGAAA...      0\n",
              "1  TCTGAAGGGGTTAAGTCAAAGATATATGGATTCACTAGACCTAGAG...      0\n",
              "2  CAGGAGAATCGCTTGAGCCCGGGAGGCGGAGGTTGCAGTGAGCAGA...      0\n",
              "3  AAGTAAAAGGATGGAAAAAGATGTATAATACAAGCATTAATCACGA...      0\n",
              "4  AGCAAGACTAATAAAGAAAAAAAGAGAGAAGAATCAAATAGATGCA...      0"
            ],
            "text/html": [
              "\n",
              "  <div id=\"df-da9c0bfb-f9b6-4eaa-af40-beebde024c2e\">\n",
              "    <div class=\"colab-df-container\">\n",
              "      <div>\n",
              "<style scoped>\n",
              "    .dataframe tbody tr th:only-of-type {\n",
              "        vertical-align: middle;\n",
              "    }\n",
              "\n",
              "    .dataframe tbody tr th {\n",
              "        vertical-align: top;\n",
              "    }\n",
              "\n",
              "    .dataframe thead th {\n",
              "        text-align: right;\n",
              "    }\n",
              "</style>\n",
              "<table border=\"1\" class=\"dataframe\">\n",
              "  <thead>\n",
              "    <tr style=\"text-align: right;\">\n",
              "      <th></th>\n",
              "      <th>seq</th>\n",
              "      <th>label</th>\n",
              "    </tr>\n",
              "  </thead>\n",
              "  <tbody>\n",
              "    <tr>\n",
              "      <th>0</th>\n",
              "      <td>ATGCAAAATGGGAATGCATGAGACAGGTGGGAAAGAGAGGGAGAAA...</td>\n",
              "      <td>0</td>\n",
              "    </tr>\n",
              "    <tr>\n",
              "      <th>1</th>\n",
              "      <td>TCTGAAGGGGTTAAGTCAAAGATATATGGATTCACTAGACCTAGAG...</td>\n",
              "      <td>0</td>\n",
              "    </tr>\n",
              "    <tr>\n",
              "      <th>2</th>\n",
              "      <td>CAGGAGAATCGCTTGAGCCCGGGAGGCGGAGGTTGCAGTGAGCAGA...</td>\n",
              "      <td>0</td>\n",
              "    </tr>\n",
              "    <tr>\n",
              "      <th>3</th>\n",
              "      <td>AAGTAAAAGGATGGAAAAAGATGTATAATACAAGCATTAATCACGA...</td>\n",
              "      <td>0</td>\n",
              "    </tr>\n",
              "    <tr>\n",
              "      <th>4</th>\n",
              "      <td>AGCAAGACTAATAAAGAAAAAAAGAGAGAAGAATCAAATAGATGCA...</td>\n",
              "      <td>0</td>\n",
              "    </tr>\n",
              "  </tbody>\n",
              "</table>\n",
              "</div>\n",
              "      <button class=\"colab-df-convert\" onclick=\"convertToInteractive('df-da9c0bfb-f9b6-4eaa-af40-beebde024c2e')\"\n",
              "              title=\"Convert this dataframe to an interactive table.\"\n",
              "              style=\"display:none;\">\n",
              "        \n",
              "  <svg xmlns=\"http://www.w3.org/2000/svg\" height=\"24px\"viewBox=\"0 0 24 24\"\n",
              "       width=\"24px\">\n",
              "    <path d=\"M0 0h24v24H0V0z\" fill=\"none\"/>\n",
              "    <path d=\"M18.56 5.44l.94 2.06.94-2.06 2.06-.94-2.06-.94-.94-2.06-.94 2.06-2.06.94zm-11 1L8.5 8.5l.94-2.06 2.06-.94-2.06-.94L8.5 2.5l-.94 2.06-2.06.94zm10 10l.94 2.06.94-2.06 2.06-.94-2.06-.94-.94-2.06-.94 2.06-2.06.94z\"/><path d=\"M17.41 7.96l-1.37-1.37c-.4-.4-.92-.59-1.43-.59-.52 0-1.04.2-1.43.59L10.3 9.45l-7.72 7.72c-.78.78-.78 2.05 0 2.83L4 21.41c.39.39.9.59 1.41.59.51 0 1.02-.2 1.41-.59l7.78-7.78 2.81-2.81c.8-.78.8-2.07 0-2.86zM5.41 20L4 18.59l7.72-7.72 1.47 1.35L5.41 20z\"/>\n",
              "  </svg>\n",
              "      </button>\n",
              "      \n",
              "  <style>\n",
              "    .colab-df-container {\n",
              "      display:flex;\n",
              "      flex-wrap:wrap;\n",
              "      gap: 12px;\n",
              "    }\n",
              "\n",
              "    .colab-df-convert {\n",
              "      background-color: #E8F0FE;\n",
              "      border: none;\n",
              "      border-radius: 50%;\n",
              "      cursor: pointer;\n",
              "      display: none;\n",
              "      fill: #1967D2;\n",
              "      height: 32px;\n",
              "      padding: 0 0 0 0;\n",
              "      width: 32px;\n",
              "    }\n",
              "\n",
              "    .colab-df-convert:hover {\n",
              "      background-color: #E2EBFA;\n",
              "      box-shadow: 0px 1px 2px rgba(60, 64, 67, 0.3), 0px 1px 3px 1px rgba(60, 64, 67, 0.15);\n",
              "      fill: #174EA6;\n",
              "    }\n",
              "\n",
              "    [theme=dark] .colab-df-convert {\n",
              "      background-color: #3B4455;\n",
              "      fill: #D2E3FC;\n",
              "    }\n",
              "\n",
              "    [theme=dark] .colab-df-convert:hover {\n",
              "      background-color: #434B5C;\n",
              "      box-shadow: 0px 1px 3px 1px rgba(0, 0, 0, 0.15);\n",
              "      filter: drop-shadow(0px 1px 2px rgba(0, 0, 0, 0.3));\n",
              "      fill: #FFFFFF;\n",
              "    }\n",
              "  </style>\n",
              "\n",
              "      <script>\n",
              "        const buttonEl =\n",
              "          document.querySelector('#df-da9c0bfb-f9b6-4eaa-af40-beebde024c2e button.colab-df-convert');\n",
              "        buttonEl.style.display =\n",
              "          google.colab.kernel.accessAllowed ? 'block' : 'none';\n",
              "\n",
              "        async function convertToInteractive(key) {\n",
              "          const element = document.querySelector('#df-da9c0bfb-f9b6-4eaa-af40-beebde024c2e');\n",
              "          const dataTable =\n",
              "            await google.colab.kernel.invokeFunction('convertToInteractive',\n",
              "                                                     [key], {});\n",
              "          if (!dataTable) return;\n",
              "\n",
              "          const docLinkHtml = 'Like what you see? Visit the ' +\n",
              "            '<a target=\"_blank\" href=https://colab.research.google.com/notebooks/data_table.ipynb>data table notebook</a>'\n",
              "            + ' to learn more about interactive tables.';\n",
              "          element.innerHTML = '';\n",
              "          dataTable['output_type'] = 'display_data';\n",
              "          await google.colab.output.renderOutput(dataTable, element);\n",
              "          const docLink = document.createElement('div');\n",
              "          docLink.innerHTML = docLinkHtml;\n",
              "          element.appendChild(docLink);\n",
              "        }\n",
              "      </script>\n",
              "    </div>\n",
              "  </div>\n",
              "  "
            ]
          },
          "metadata": {},
          "execution_count": 4
        }
      ]
    },
    {
      "cell_type": "code",
      "source": [
        "non_ind = pd.read_csv('bert-enhancer/data/non.ind.txt')[::2]\n",
        "non_ind.columns = ['seq']\n",
        "print((len(non_ind)))\n",
        "\n",
        "label_1 = [0 for i in range(len(non_ind))]\n",
        "non_ind['label'] = label_1\n",
        "\n",
        "enhancer_ind = pd.read_csv('bert-enhancer/data/enhancer.ind.txt')[::2]\n",
        "enhancer_ind.columns = ['seq']\n",
        "print((len(enhancer_ind)))\n",
        "\n",
        "label_1 = [1 for i in range(len(enhancer_ind))]\n",
        "enhancer_ind['label'] = label_1"
      ],
      "metadata": {
        "colab": {
          "base_uri": "https://localhost:8080/"
        },
        "id": "IcRolbTkqtT_",
        "outputId": "7a149a61-05e1-4494-e226-3cb8e864a8bd"
      },
      "execution_count": 5,
      "outputs": [
        {
          "output_type": "stream",
          "name": "stdout",
          "text": [
            "200\n",
            "200\n"
          ]
        }
      ]
    },
    {
      "cell_type": "code",
      "source": [
        "enhancer_test = pd.concat([non_ind, enhancer_ind],axis=0)\n",
        "enhancer_test.index = range(len(enhancer_test))\n",
        "enhancer_test.head()"
      ],
      "metadata": {
        "colab": {
          "base_uri": "https://localhost:8080/",
          "height": 206
        },
        "id": "ozJ9uL3NrHtS",
        "outputId": "fea639d2-2c07-4f44-d636-161be626ebc6"
      },
      "execution_count": 6,
      "outputs": [
        {
          "output_type": "execute_result",
          "data": {
            "text/plain": [
              "                                                 seq  label\n",
              "0  AATTTTCTCATTTTCTCATAAAGTTTAACAGTTGTTTATTTGAGTC...      0\n",
              "1  ACTGGTTATCTTTTAGGACTAGTTAATATAACCCATTCTCTAACCA...      0\n",
              "2  ATGCATATGTTCTTCAGTAAACAGAGCAGCCACTGGTACCACAGGA...      0\n",
              "3  CTGCTCTCCTCGCTCTATAAAAGTCAGAGTGCCTAAGCTGTTAATT...      0\n",
              "4  GCTTGGGTATATATTGTCCAATATAGCAGGCCTCATGTGCTCCTTA...      0"
            ],
            "text/html": [
              "\n",
              "  <div id=\"df-1286111e-857b-497c-a4f3-522d54f9c026\">\n",
              "    <div class=\"colab-df-container\">\n",
              "      <div>\n",
              "<style scoped>\n",
              "    .dataframe tbody tr th:only-of-type {\n",
              "        vertical-align: middle;\n",
              "    }\n",
              "\n",
              "    .dataframe tbody tr th {\n",
              "        vertical-align: top;\n",
              "    }\n",
              "\n",
              "    .dataframe thead th {\n",
              "        text-align: right;\n",
              "    }\n",
              "</style>\n",
              "<table border=\"1\" class=\"dataframe\">\n",
              "  <thead>\n",
              "    <tr style=\"text-align: right;\">\n",
              "      <th></th>\n",
              "      <th>seq</th>\n",
              "      <th>label</th>\n",
              "    </tr>\n",
              "  </thead>\n",
              "  <tbody>\n",
              "    <tr>\n",
              "      <th>0</th>\n",
              "      <td>AATTTTCTCATTTTCTCATAAAGTTTAACAGTTGTTTATTTGAGTC...</td>\n",
              "      <td>0</td>\n",
              "    </tr>\n",
              "    <tr>\n",
              "      <th>1</th>\n",
              "      <td>ACTGGTTATCTTTTAGGACTAGTTAATATAACCCATTCTCTAACCA...</td>\n",
              "      <td>0</td>\n",
              "    </tr>\n",
              "    <tr>\n",
              "      <th>2</th>\n",
              "      <td>ATGCATATGTTCTTCAGTAAACAGAGCAGCCACTGGTACCACAGGA...</td>\n",
              "      <td>0</td>\n",
              "    </tr>\n",
              "    <tr>\n",
              "      <th>3</th>\n",
              "      <td>CTGCTCTCCTCGCTCTATAAAAGTCAGAGTGCCTAAGCTGTTAATT...</td>\n",
              "      <td>0</td>\n",
              "    </tr>\n",
              "    <tr>\n",
              "      <th>4</th>\n",
              "      <td>GCTTGGGTATATATTGTCCAATATAGCAGGCCTCATGTGCTCCTTA...</td>\n",
              "      <td>0</td>\n",
              "    </tr>\n",
              "  </tbody>\n",
              "</table>\n",
              "</div>\n",
              "      <button class=\"colab-df-convert\" onclick=\"convertToInteractive('df-1286111e-857b-497c-a4f3-522d54f9c026')\"\n",
              "              title=\"Convert this dataframe to an interactive table.\"\n",
              "              style=\"display:none;\">\n",
              "        \n",
              "  <svg xmlns=\"http://www.w3.org/2000/svg\" height=\"24px\"viewBox=\"0 0 24 24\"\n",
              "       width=\"24px\">\n",
              "    <path d=\"M0 0h24v24H0V0z\" fill=\"none\"/>\n",
              "    <path d=\"M18.56 5.44l.94 2.06.94-2.06 2.06-.94-2.06-.94-.94-2.06-.94 2.06-2.06.94zm-11 1L8.5 8.5l.94-2.06 2.06-.94-2.06-.94L8.5 2.5l-.94 2.06-2.06.94zm10 10l.94 2.06.94-2.06 2.06-.94-2.06-.94-.94-2.06-.94 2.06-2.06.94z\"/><path d=\"M17.41 7.96l-1.37-1.37c-.4-.4-.92-.59-1.43-.59-.52 0-1.04.2-1.43.59L10.3 9.45l-7.72 7.72c-.78.78-.78 2.05 0 2.83L4 21.41c.39.39.9.59 1.41.59.51 0 1.02-.2 1.41-.59l7.78-7.78 2.81-2.81c.8-.78.8-2.07 0-2.86zM5.41 20L4 18.59l7.72-7.72 1.47 1.35L5.41 20z\"/>\n",
              "  </svg>\n",
              "      </button>\n",
              "      \n",
              "  <style>\n",
              "    .colab-df-container {\n",
              "      display:flex;\n",
              "      flex-wrap:wrap;\n",
              "      gap: 12px;\n",
              "    }\n",
              "\n",
              "    .colab-df-convert {\n",
              "      background-color: #E8F0FE;\n",
              "      border: none;\n",
              "      border-radius: 50%;\n",
              "      cursor: pointer;\n",
              "      display: none;\n",
              "      fill: #1967D2;\n",
              "      height: 32px;\n",
              "      padding: 0 0 0 0;\n",
              "      width: 32px;\n",
              "    }\n",
              "\n",
              "    .colab-df-convert:hover {\n",
              "      background-color: #E2EBFA;\n",
              "      box-shadow: 0px 1px 2px rgba(60, 64, 67, 0.3), 0px 1px 3px 1px rgba(60, 64, 67, 0.15);\n",
              "      fill: #174EA6;\n",
              "    }\n",
              "\n",
              "    [theme=dark] .colab-df-convert {\n",
              "      background-color: #3B4455;\n",
              "      fill: #D2E3FC;\n",
              "    }\n",
              "\n",
              "    [theme=dark] .colab-df-convert:hover {\n",
              "      background-color: #434B5C;\n",
              "      box-shadow: 0px 1px 3px 1px rgba(0, 0, 0, 0.15);\n",
              "      filter: drop-shadow(0px 1px 2px rgba(0, 0, 0, 0.3));\n",
              "      fill: #FFFFFF;\n",
              "    }\n",
              "  </style>\n",
              "\n",
              "      <script>\n",
              "        const buttonEl =\n",
              "          document.querySelector('#df-1286111e-857b-497c-a4f3-522d54f9c026 button.colab-df-convert');\n",
              "        buttonEl.style.display =\n",
              "          google.colab.kernel.accessAllowed ? 'block' : 'none';\n",
              "\n",
              "        async function convertToInteractive(key) {\n",
              "          const element = document.querySelector('#df-1286111e-857b-497c-a4f3-522d54f9c026');\n",
              "          const dataTable =\n",
              "            await google.colab.kernel.invokeFunction('convertToInteractive',\n",
              "                                                     [key], {});\n",
              "          if (!dataTable) return;\n",
              "\n",
              "          const docLinkHtml = 'Like what you see? Visit the ' +\n",
              "            '<a target=\"_blank\" href=https://colab.research.google.com/notebooks/data_table.ipynb>data table notebook</a>'\n",
              "            + ' to learn more about interactive tables.';\n",
              "          element.innerHTML = '';\n",
              "          dataTable['output_type'] = 'display_data';\n",
              "          await google.colab.output.renderOutput(dataTable, element);\n",
              "          const docLink = document.createElement('div');\n",
              "          docLink.innerHTML = docLinkHtml;\n",
              "          element.appendChild(docLink);\n",
              "        }\n",
              "      </script>\n",
              "    </div>\n",
              "  </div>\n",
              "  "
            ]
          },
          "metadata": {},
          "execution_count": 6
        }
      ]
    },
    {
      "cell_type": "code",
      "source": [
        "enhancer_sequence_length = enhancer_train['seq'].map(lambda x: len(x)).max() + 2\n",
        "print('sequence_length', enhancer_sequence_length)"
      ],
      "metadata": {
        "colab": {
          "base_uri": "https://localhost:8080/"
        },
        "id": "JDeJgxxlmqbw",
        "outputId": "44344786-28be-4210-bdf1-6f65d59b723e"
      },
      "execution_count": 7,
      "outputs": [
        {
          "output_type": "stream",
          "name": "stdout",
          "text": [
            "sequence_length 202\n"
          ]
        }
      ]
    },
    {
      "cell_type": "code",
      "source": [
        "enhancer_train_X = input_encoder.encode_X(enhancer_train['seq'], enhancer_sequence_length)\n",
        "enhancer_test_X = input_encoder.encode_X(enhancer_test['seq'], enhancer_sequence_length)"
      ],
      "metadata": {
        "id": "Mru3rv0ZocRt"
      },
      "execution_count": 10,
      "outputs": []
    },
    {
      "cell_type": "code",
      "source": [
        "enhancer_model_generator = get_model_with_hidden_layers_as_outputs(pretrained_model_generator.create_model(enhancer_sequence_length))"
      ],
      "metadata": {
        "colab": {
          "base_uri": "https://localhost:8080/"
        },
        "id": "lsPGMfP2o0Uw",
        "outputId": "13e48a45-18d9-4683-f51d-f5cd15cea9d3"
      },
      "execution_count": 11,
      "outputs": [
        {
          "output_type": "stream",
          "name": "stderr",
          "text": [
            "WARNING:absl:`lr` is deprecated in Keras optimizer, please use `learning_rate` or use the legacy optimizer, e.g.,tf.keras.optimizers.legacy.Adam.\n"
          ]
        }
      ]
    },
    {
      "cell_type": "code",
      "source": [
        "enhancer_local_representations_train, global_representations_train=enhancer_model_generator.predict(enhancer_train_X, batch_size = 64)\n",
        "enhancer_local_representations_test, global_representations_test=enhancer_model_generator.predict(enhancer_test_X, batch_size = 64)"
      ],
      "metadata": {
        "colab": {
          "base_uri": "https://localhost:8080/"
        },
        "id": "N40V3x8Po43s",
        "outputId": "d6cb5253-464f-4d28-d551-4497ea011567"
      },
      "execution_count": 12,
      "outputs": [
        {
          "output_type": "stream",
          "name": "stdout",
          "text": [
            "47/47 [==============================] - 11s 180ms/step\n",
            "7/7 [==============================] - 1s 157ms/step\n"
          ]
        }
      ]
    },
    {
      "cell_type": "code",
      "source": [
        "model_enhancer = tf.keras.models.Sequential([\n",
        "    tf.keras.layers.Flatten(input_shape = enhancer_local_representations_train[0].shape),\n",
        "    tf.keras.layers.Dense(1, activation = 'sigmoid')]\n",
        ")\n",
        "model_enhancer.compile(loss=tf.keras.losses.binary_crossentropy,\n",
        "                  optimizer='adam',\n",
        "                  metrics=['accuracy'])\n",
        "\n",
        "history_stability = model_enhancer.fit(enhancer_local_representations_train, enhancer_train['label'], \n",
        "                                batch_size=64, epochs=50)"
      ],
      "metadata": {
        "id": "SXyzQkS9pD5I"
      },
      "execution_count": null,
      "outputs": []
    },
    {
      "cell_type": "code",
      "source": [
        "accuracy = history_stability .history['accuracy']\n",
        "\n",
        "plt.plot(range(len(accuracy)), accuracy, 'b', label='Train Accuracy')\n",
        "plt.title('Train Accuracy')\n",
        "plt.legend()"
      ],
      "metadata": {
        "colab": {
          "base_uri": "https://localhost:8080/",
          "height": 470
        },
        "id": "bkzTPtH20kOT",
        "outputId": "283a407b-cbd3-4ad3-ca05-24d0d88fdb3c"
      },
      "execution_count": 48,
      "outputs": [
        {
          "output_type": "execute_result",
          "data": {
            "text/plain": [
              "<matplotlib.legend.Legend at 0x7f5b04091670>"
            ]
          },
          "metadata": {},
          "execution_count": 48
        },
        {
          "output_type": "display_data",
          "data": {
            "text/plain": [
              "<Figure size 640x480 with 1 Axes>"
            ],
            "image/png": "[encoded data removed]"
          },
          "metadata": {}
        }
      ]
    },
    {
      "cell_type": "code",
      "source": [
        "loss = history_stability .history['loss']\n",
        "\n",
        "plt.plot(range(len(loss)), loss, 'b', label='Train Loss')\n",
        "plt.title('Train Loss')\n",
        "plt.legend()"
      ],
      "metadata": {
        "colab": {
          "base_uri": "https://localhost:8080/",
          "height": 470
        },
        "id": "3t4kS2tK0r-K",
        "outputId": "050736b2-d74a-45db-c352-9524b069d4da"
      },
      "execution_count": 49,
      "outputs": [
        {
          "output_type": "execute_result",
          "data": {
            "text/plain": [
              "<matplotlib.legend.Legend at 0x7f5b041370a0>"
            ]
          },
          "metadata": {},
          "execution_count": 49
        },
        {
          "output_type": "display_data",
          "data": {
            "text/plain": [
              "<Figure size 640x480 with 1 Axes>"
            ],
            "image/png": "[encoded data removed]"
          },
          "metadata": {}
        }
      ]
    },
    {
      "cell_type": "code",
      "source": [
        "enhancer_predict_Y = model_enhancer.predict(enhancer_local_representations_test)\n",
        "label = []\n",
        "for i in enhancer_predict_Y:\n",
        "  if i[0] <= 0.5:\n",
        "    label.append(0)\n",
        "  else:\n",
        "    label.append(1)\n",
        "correct = 0\n",
        "for i in range(len(label)):\n",
        "  if label[i] == enhancer_test['label'][i]:\n",
        "    correct += 1\n",
        "correct / len(label)"
      ],
      "metadata": {
        "colab": {
          "base_uri": "https://localhost:8080/"
        },
        "id": "7AFqHdE2rT4n",
        "outputId": "ee2c71a0-13ac-4e6a-8e1f-bae7aee12b84"
      },
      "execution_count": 42,
      "outputs": [
        {
          "output_type": "stream",
          "name": "stdout",
          "text": [
            "13/13 [==============================] - 0s 6ms/step\n"
          ]
        },
        {
          "output_type": "execute_result",
          "data": {
            "text/plain": [
              "0.775"
            ]
          },
          "metadata": {},
          "execution_count": 42
        }
      ]
    },
    {
      "cell_type": "code",
      "source": [
        "'''\n",
        "from tensorflow.keras.applications.inception_v3 import InceptionV3\n",
        "from tensorflow.keras.preprocessing.sequence import pad_sequences\n",
        "'''"
      ],
      "metadata": {
        "id": "6BNx843GBD-6"
      },
      "execution_count": null,
      "outputs": []
    },
    {
      "cell_type": "code",
      "source": [
        "'''\n",
        "train = pd.read_csv('protein_bert/protein_benchmarks/stability.train.csv')[:2000]\n",
        "valid = pd.read_csv('protein_bert/protein_benchmarks/stability.valid.csv')[:300]\n",
        "test = pd.read_csv('protein_bert/protein_benchmarks/stability.test.csv')[:300]\n",
        "\n",
        "train_X = train['seq']\n",
        "valid_X = valid['seq']\n",
        "test_X = test['seq']\n",
        "\n",
        "padded_sequences = pad_sequences(train_X, maxlen=75, padding='pre')\n",
        "\n",
        "'''"
      ],
      "metadata": {
        "id": "iisXqSKBQnnF"
      },
      "execution_count": null,
      "outputs": []
    },
    {
      "cell_type": "code",
      "source": [
        "'''\n",
        "print(local_representations_train.shape)\n",
        "zeros = np.array([np.zeros(1562) for _ in range(23)]).reshape(1, 23, 1562)\n",
        "print(zeros.shape)\n",
        "local_representations_train = np.append(local_representations_train, values = zeros, axis = 2)\n",
        "print(local_representations_train.shape)\n",
        "'''"
      ],
      "metadata": {
        "id": "W_XE5MkkKlnj"
      },
      "execution_count": null,
      "outputs": []
    },
    {
      "cell_type": "code",
      "source": [
        "'''\n",
        "pre_trained_cnn = InceptionV3(input_shape = (52, 1562, 1),\n",
        "                                  include_top = False, \n",
        "                                  weights = None).load_weights('/tmp/inception_v3_weights_tf_dim_ordering_tf_kernels_notop.h5')\n",
        "\n",
        "pre_trained_cnn.summary()\n",
        "'''"
      ],
      "metadata": {
        "id": "mfbx-Nx0AVxn"
      },
      "execution_count": null,
      "outputs": []
    }
  ]
}