{
  "nbformat": 4,
  "nbformat_minor": 0,
  "metadata": {
    "colab": {
      "provenance": [],
      "authorship_tag": "ABX9TyMkNNadHfDFTuLQtYbXUaPa",
      "include_colab_link": true
    },
    "kernelspec": {
      "name": "python3",
      "display_name": "Python 3"
    },
    "language_info": {
      "name": "python"
    }
  },
  "cells": [
    {
      "cell_type": "markdown",
      "metadata": {
        "id": "view-in-github",
        "colab_type": "text"
      },
      "source": [
        "<a href=\"https://colab.research.google.com/github/Lisker2/ML/blob/main/simple_implementation/HMM.ipynb\" target=\"_parent\"><img src=\"https://colab.research.google.com/assets/colab-badge.svg\" alt=\"Open In Colab\"/></a>"
      ]
    },
    {
      "cell_type": "code",
      "execution_count": 1,
      "metadata": {
        "id": "y0zNyU-ElFrc"
      },
      "outputs": [],
      "source": [
        "import numpy as np\n",
        "import scipy\n",
        "import itertools"
      ]
    },
    {
      "cell_type": "code",
      "source": [
        "state = 3\n",
        "A = np.array([\n",
        "    [0.1, 0.4, 0.5],\n",
        "    [0.3, 0.2, 0.5],\n",
        "    [0.1, 0.6, 0.3]\n",
        "])\n",
        "_, left_eigenvector = scipy.linalg.eig(A, left=True, right=False)\n",
        "pi = left_eigenvector[:,0] / np.sum(left_eigenvector[:,0])\n",
        "\n",
        "print('Number of state is\\n', state)\n",
        "print('Transition matrix\\n', A)\n",
        "print('Initial probability distribution\\n', pi)"
      ],
      "metadata": {
        "colab": {
          "base_uri": "https://localhost:8080/"
        },
        "id": "9itmTs5gGzjH",
        "outputId": "bc2fe23b-0329-4d25-b9ac-b5453bab584f"
      },
      "execution_count": 2,
      "outputs": [
        {
          "output_type": "stream",
          "name": "stdout",
          "text": [
            "Number of state is\n",
            " 3\n",
            "Transition matrix\n",
            " [[0.1 0.4 0.5]\n",
            " [0.3 0.2 0.5]\n",
            " [0.1 0.6 0.3]]\n",
            "Initial probability distribution\n",
            " [0.18055556 0.40277778 0.41666667]\n"
          ]
        }
      ]
    },
    {
      "cell_type": "code",
      "source": [
        "def sequence_generator(num, start):\n",
        "  res = []\n",
        "  current = start\n",
        "  res.append(current)\n",
        "  for i in range(num):\n",
        "    current = np.random.choice([i for i in range(state)], p=A[current])\n",
        "    res.append(current)\n",
        "  return res"
      ],
      "metadata": {
        "id": "xXv7fjckJnyX"
      },
      "execution_count": 3,
      "outputs": []
    },
    {
      "cell_type": "code",
      "source": [
        "res_100 = sequence_generator(100, 0)\n",
        "res_500 = sequence_generator(500, 0)\n",
        "res_100000 = sequence_generator(500, 0)"
      ],
      "metadata": {
        "id": "vw7zYo_HKi57"
      },
      "execution_count": 4,
      "outputs": []
    },
    {
      "cell_type": "code",
      "source": [
        "def eval_res(res):\n",
        "\n",
        "  n = len(res)\n",
        "  transition = np.zeros((state, state))\n",
        "  pi = np.zeros(state)\n",
        "\n",
        "  for i in range(n - 1):\n",
        "    current = res[i]\n",
        "    next = res[i + 1]\n",
        "    pi[current] += 1\n",
        "    transition[current][next] += 1\n",
        "  \n",
        "  transition = [transition[i]/pi[i] for i in range(state)]\n",
        "  pi /= n \n",
        "\n",
        "  return transition, pi"
      ],
      "metadata": {
        "id": "kB5qjXGjK3yO"
      },
      "execution_count": 5,
      "outputs": []
    },
    {
      "cell_type": "code",
      "source": [
        "print('The estimation of using generated 100 sequences:\\n',eval_res(res_100))\n",
        "print('The estimation of using generated 500 sequences:\\n',eval_res(res_500))\n",
        "print('The estimation of using generated 100000 sequences:\\n',eval_res(res_100000))"
      ],
      "metadata": {
        "colab": {
          "base_uri": "https://localhost:8080/"
        },
        "id": "v_pnsQ19NHv9",
        "outputId": "e9eebe6c-4d6d-4b20-b5cf-7e5d2031f384"
      },
      "execution_count": 6,
      "outputs": [
        {
          "output_type": "stream",
          "name": "stdout",
          "text": [
            "The estimation of using generated 100 sequences:\n",
            " ([array([0.11764706, 0.52941176, 0.35294118]), array([0.1627907 , 0.23255814, 0.60465116]), array([0.175, 0.625, 0.2  ])], array([0.16831683, 0.42574257, 0.3960396 ]))\n",
            "The estimation of using generated 500 sequences:\n",
            " ([array([0.15384615, 0.32967033, 0.51648352]), array([0.29569892, 0.1827957 , 0.52150538]), array([0.0941704 , 0.5470852 , 0.35874439])], array([0.18163673, 0.37125749, 0.44510978]))\n",
            "The estimation of using generated 100000 sequences:\n",
            " ([array([0.09302326, 0.3255814 , 0.58139535]), array([0.28358209, 0.23383085, 0.48258706]), array([0.09859155, 0.5915493 , 0.30985915])], array([0.17165669, 0.4011976 , 0.4251497 ]))\n"
          ]
        }
      ]
    },
    {
      "cell_type": "markdown",
      "source": [
        "The results of generated sequences of lengths 100 and 500 differ slightly from the orginal setup. Because of the length limit, it's just a rough approximation. However, if one increases the length to 10000, the result is almost identical to the orginal setup since the length is long enough to ignore the start state. "
      ],
      "metadata": {
        "id": "kDLsiHYEP13J"
      }
    },
    {
      "cell_type": "code",
      "source": [
        "B = np.array([\n",
        "    [0.5, 0.1, 0.1, 0.1, 0.2],\n",
        "    [0.1, 0.3, 0.4, 0.1, 0.1],\n",
        "    [0.2, 0.1, 0.1, 0.3, 0.4]\n",
        "])\n",
        "observation = [0, 1, 2, 3, 4]"
      ],
      "metadata": {
        "id": "GZkROFKjP1dq"
      },
      "execution_count": 7,
      "outputs": []
    },
    {
      "cell_type": "code",
      "source": [
        "# Enumerate all the combinations. In this case 3**5 = 243 times calculation.\n",
        "\n",
        "def dumb(observation):\n",
        "  n = len(observation)\n",
        "\n",
        "  all = list(itertools.product([_ for _ in range(state)], repeat=n))\n",
        "  best_seq = all[0]\n",
        "  best_p = 0\n",
        "  sum = 0\n",
        "\n",
        "  for seq in all:\n",
        "\n",
        "    temp_p = pi[seq[0]] * B[seq[0]][observation[0]]\n",
        "    for t in range(1, n):\n",
        "      temp_p *= (A[seq[t - 1]][seq[t]] * B[seq[t]][observation[t]])\n",
        "\n",
        "    if temp_p > best_p:\n",
        "      best_p, best_seq  = temp_p, seq\n",
        "  \n",
        "  return best_seq, best_p"
      ],
      "metadata": {
        "id": "TOCaZHtfZ-rs"
      },
      "execution_count": 8,
      "outputs": []
    },
    {
      "cell_type": "code",
      "source": [
        "dumb(observation)"
      ],
      "metadata": {
        "colab": {
          "base_uri": "https://localhost:8080/"
        },
        "id": "QJsnF1fcb-_v",
        "outputId": "3ee4944c-8bbe-48f3-a112-955b9c9755f7"
      },
      "execution_count": 9,
      "outputs": [
        {
          "output_type": "execute_result",
          "data": {
            "text/plain": [
              "((2, 1, 1, 2, 2), 2.16e-05)"
            ]
          },
          "metadata": {},
          "execution_count": 9
        }
      ]
    },
    {
      "cell_type": "code",
      "source": [
        "# This follows pseudo code in ppt.\n",
        "\n",
        "def viterbi(observation):\n",
        "\n",
        "  n = len(observation)\n",
        "  viterbi = np.zeros((state, n))\n",
        "  backpointer = np.zeros((state, n))\n",
        "  best_path_prob = 0\n",
        "  best_path = [0 for _ in range(n)]\n",
        "\n",
        "\n",
        "  viterbi[:, 0] = pi * B[:, observation[0]]\n",
        "\n",
        "  for t in range(1, n):\n",
        "    for s in range(state):\n",
        "\n",
        "      temp = viterbi[:, t - 1] * A[:, s] * B[s][observation[t]]\n",
        "      viterbi[s, t] = max(temp)\n",
        "      backpointer[s, t] = np.argmax(temp)\n",
        "  \n",
        "  best_path_prob = max(viterbi[:, -1])\n",
        "  best_path[-1] = np.argmax(viterbi[:, -1])\n",
        "  \n",
        "  for i in range(n - 2, -1, -1):\n",
        "    best_path[i] = int(backpointer[int(best_path[i + 1]), i + 1])\n",
        "\n",
        "  return best_path, best_path_prob"
      ],
      "metadata": {
        "id": "ytFlNQHKdCm-"
      },
      "execution_count": 10,
      "outputs": []
    },
    {
      "cell_type": "code",
      "source": [
        "viterbi(observation)"
      ],
      "metadata": {
        "colab": {
          "base_uri": "https://localhost:8080/"
        },
        "id": "wyELOaDikcwV",
        "outputId": "1f5110cb-5605-4dfe-dc15-41dda1d7bdf7"
      },
      "execution_count": 11,
      "outputs": [
        {
          "output_type": "execute_result",
          "data": {
            "text/plain": [
              "([2, 1, 1, 2, 2], 2.1599999999999996e-05)"
            ]
          },
          "metadata": {},
          "execution_count": 11
        }
      ]
    },
    {
      "cell_type": "markdown",
      "source": [
        "Looks good."
      ],
      "metadata": {
        "id": "_Z1jRhlJr4a4"
      }
    }
  ]
}