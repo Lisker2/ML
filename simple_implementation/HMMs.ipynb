{
  "nbformat": 4,
  "nbformat_minor": 0,
  "metadata": {
    "colab": {
      "provenance": [],
      "authorship_tag": "ABX9TyOFXuXZ1hP97+vBUV64U5NJ",
      "include_colab_link": true
    },
    "kernelspec": {
      "name": "python3",
      "display_name": "Python 3"
    },
    "language_info": {
      "name": "python"
    }
  },
  "cells": [
    {
      "cell_type": "markdown",
      "metadata": {
        "id": "view-in-github",
        "colab_type": "text"
      },
      "source": [
        "<a href=\"https://colab.research.google.com/github/Lisker2/ML/blob/main/simple_implementation/HMMs.ipynb\" target=\"_parent\"><img src=\"https://colab.research.google.com/assets/colab-badge.svg\" alt=\"Open In Colab\"/></a>"
      ]
    },
    {
      "cell_type": "code",
      "execution_count": null,
      "metadata": {
        "id": "y0zNyU-ElFrc"
      },
      "outputs": [],
      "source": [
        "import numpy as np\n",
        "import scipy\n",
        "import itertools"
      ]
    },
    {
      "cell_type": "code",
      "source": [
        "# Define a MM with three states\n",
        "state = 3\n",
        "# transition probability matrix\n",
        "A = np.array([\n",
        "    [0.1, 0.4, 0.5],\n",
        "    [0.3, 0.2, 0.5],\n",
        "    [0.1, 0.6, 0.3]\n",
        "])\n",
        "# initial probability distribution (stable)\n",
        "_, left_eigenvector = scipy.linalg.eig(A, left=True, right=False)\n",
        "pi = left_eigenvector[:,0] / np.sum(left_eigenvector[:,0])\n",
        "\n",
        "print('Number of state is\\n', state)\n",
        "print('Transition matrix\\n', A)\n",
        "print('Initial probability distribution\\n', pi)"
      ],
      "metadata": {
        "colab": {
          "base_uri": "https://localhost:8080/"
        },
        "id": "9itmTs5gGzjH",
        "outputId": "2684fb11-94ac-44ec-9707-de451e9ce1d9"
      },
      "execution_count": null,
      "outputs": [
        {
          "output_type": "stream",
          "name": "stdout",
          "text": [
            "Number of state is\n",
            " 3\n",
            "Transition matrix\n",
            " [[0.1 0.4 0.5]\n",
            " [0.3 0.2 0.5]\n",
            " [0.1 0.6 0.3]]\n",
            "Initial probability distribution\n",
            " [0.18055556 0.40277778 0.41666667]\n"
          ]
        }
      ]
    },
    {
      "cell_type": "code",
      "source": [
        "def sequence_generator(num, start):\n",
        "  res = []\n",
        "  current = start\n",
        "  res.append(current)\n",
        "  for i in range(num):\n",
        "    # choose the next state based on the transition probability\n",
        "    current = np.random.choice([i for i in range(state)], p=A[current])\n",
        "    res.append(current)\n",
        "  return res"
      ],
      "metadata": {
        "id": "xXv7fjckJnyX"
      },
      "execution_count": null,
      "outputs": []
    },
    {
      "cell_type": "code",
      "source": [
        "res_100 = sequence_generator(100, 0)\n",
        "res_500 = sequence_generator(500, 0)\n",
        "res_100000 = sequence_generator(100000, 0)"
      ],
      "metadata": {
        "id": "vw7zYo_HKi57"
      },
      "execution_count": null,
      "outputs": []
    },
    {
      "cell_type": "code",
      "source": [
        "def eval_res(res):\n",
        "\n",
        "  n = len(res)\n",
        "  # count transitions from state i to state j\n",
        "  transition = np.zeros((state, state))\n",
        "  # count appearance of each states\n",
        "  pi = np.zeros(state)\n",
        "\n",
        "  for i in range(n - 1):\n",
        "    current = res[i]\n",
        "    next = res[i + 1]\n",
        "    pi[current] += 1\n",
        "    transition[current][next] += 1\n",
        "  \n",
        "  transition = [transition[i]/pi[i]for i in range(state)]\n",
        "  pi /= n \n",
        "\n",
        "  print(\"Estimation of transition probability matrix:\\n\", transition)\n",
        "  print(\"Estimation of initial probability distribution:\\n\", pi)"
      ],
      "metadata": {
        "id": "kB5qjXGjK3yO"
      },
      "execution_count": null,
      "outputs": []
    },
    {
      "cell_type": "code",
      "source": [
        "eval_res(res_100)\n",
        "eval_res(res_500)\n",
        "eval_res(res_100000)"
      ],
      "metadata": {
        "colab": {
          "base_uri": "https://localhost:8080/"
        },
        "id": "v_pnsQ19NHv9",
        "outputId": "9e504ea0-5555-44af-a98f-0f0a4290f93d"
      },
      "execution_count": null,
      "outputs": [
        {
          "output_type": "stream",
          "name": "stdout",
          "text": [
            "Estimation of transition probability matrix:\n",
            " [array([0.09090909, 0.54545455, 0.36363636]), array([0.39473684, 0.18421053, 0.42105263]), array([0.1, 0.5, 0.4])]\n",
            "Estimation of initial probability distribution:\n",
            " [0.21782178 0.37623762 0.3960396 ]\n",
            "Estimation of transition probability matrix:\n",
            " [array([0.14606742, 0.46067416, 0.39325843]), array([0.29 , 0.175, 0.535]), array([0.08056872, 0.58767773, 0.33175355])]\n",
            "Estimation of initial probability distribution:\n",
            " [0.17764471 0.3992016  0.42115768]\n",
            "Estimation of transition probability matrix:\n",
            " [array([0.09698978, 0.39895057, 0.50405965]), array([0.30059198, 0.19856233, 0.50084569]), array([0.10225228, 0.59962582, 0.2981219 ])]\n",
            "Estimation of initial probability distribution:\n",
            " [0.18104819 0.40203598 0.41690583]\n"
          ]
        }
      ]
    },
    {
      "cell_type": "markdown",
      "source": [
        "The results of generated sequences of lengths 100 and 500 differ slightly from the orginal setup. Because of the length limit, it's just a rough approximation. However, if one increases the length to 10000, the result is almost identical to the orginal setup since the length is long enough to ignore the start state. "
      ],
      "metadata": {
        "id": "kDLsiHYEP13J"
      }
    },
    {
      "cell_type": "code",
      "source": [
        "# observation probability matrix\n",
        "B = np.array([\n",
        "    [0.5, 0.1, 0.1, 0.1, 0.2],\n",
        "    [0.1, 0.3, 0.4, 0.1, 0.1],\n",
        "    [0.2, 0.1, 0.1, 0.3, 0.4]\n",
        "])\n",
        "# choose an observation sequence\n",
        "observation = [0, 1, 2, 3, 4]"
      ],
      "metadata": {
        "id": "GZkROFKjP1dq"
      },
      "execution_count": null,
      "outputs": []
    },
    {
      "cell_type": "code",
      "source": [
        "# Enumerate all the combinations. In this case 3**5 = 243 times calculation.\n",
        "\n",
        "def dumb(observation):\n",
        "  n = len(observation)\n",
        "\n",
        "  # all possible combinations [1, 1, 1, 1, 1], [1, 1, 1, 1, 2]....... -> len(all) = 243\n",
        "  all = list(itertools.product([_ for _ in range(state)], repeat=n))\n",
        "  # the best sequence\n",
        "  best_seq = all[0]\n",
        "  # the possibility of the best sequence\n",
        "  best_p = 0\n",
        "\n",
        "  for seq in all:\n",
        "    # for each possible sequence, initialize the temp_p to be initial probability times p(the first observation|initial state)\n",
        "    temp_p = pi[seq[0]] * B[seq[0]][observation[0]]\n",
        "    for t in range(1, n):\n",
        "      # temp_p *= p(current state|previous state) * p(current observation|current state)\n",
        "      temp_p *= (A[seq[t - 1]][seq[t]] * B[seq[t]][observation[t]])\n",
        "    \n",
        "    # update best sequence and possibility if it's higher\n",
        "    if temp_p > best_p:\n",
        "      best_p, best_seq  = temp_p, seq\n",
        "  \n",
        "  return best_seq, best_p"
      ],
      "metadata": {
        "id": "TOCaZHtfZ-rs"
      },
      "execution_count": null,
      "outputs": []
    },
    {
      "cell_type": "code",
      "source": [
        "dumb(observation)"
      ],
      "metadata": {
        "colab": {
          "base_uri": "https://localhost:8080/"
        },
        "id": "QJsnF1fcb-_v",
        "outputId": "1082d2fc-aa69-47f0-c797-2fa4b689b86d"
      },
      "execution_count": null,
      "outputs": [
        {
          "output_type": "execute_result",
          "data": {
            "text/plain": [
              "((2, 1, 1, 2, 2), 2.16e-05)"
            ]
          },
          "metadata": {},
          "execution_count": 9
        }
      ]
    },
    {
      "cell_type": "code",
      "source": [
        "# This follows pseudo code in ppt.\n",
        "\n",
        "def viterbi(observation):\n",
        "\n",
        "  n = len(observation)\n",
        "  # initialization (t, n) cahce and backpointer\n",
        "  viterbi = np.zeros((state, n))\n",
        "  # initialize the temp_p to be initial probability times p(the first observation|initial state)\n",
        "  viterbi[:, 0] = pi * B[:, observation[0]]\n",
        "  backpointer = np.zeros((state, n))\n",
        "  best_path_prob = 0\n",
        "  best_path = [0 for _ in range(n)]\n",
        "\n",
        "  #recursion step\n",
        "  for t in range(1, n):\n",
        "    for s in range(state):\n",
        "      \n",
        "      # from previous time step : for all possible previous state p(current state|previous state) * p(current observation|current state)\n",
        "      temp = viterbi[:, t - 1] * A[:, s] * B[s][observation[t]]\n",
        "      viterbi[s, t] = max(temp) # choose the largest p from all possible previous state\n",
        "      backpointer[s, t] = np.argmax(temp) # argmax return index of state\n",
        "  \n",
        "  # the result of best possibility will be the max value at the end time, the last column\n",
        "  best_path_prob = max(viterbi[:, -1])\n",
        "  # follow the best state in the last column, move backward to find the best path\n",
        "  best_path[-1] = np.argmax(viterbi[:, -1])\n",
        "  \n",
        "  for i in range(n - 2, -1, -1):\n",
        "    best_path[i] = int(backpointer[int(best_path[i + 1]), i + 1])\n",
        "\n",
        "  return best_path, best_path_prob"
      ],
      "metadata": {
        "id": "ytFlNQHKdCm-"
      },
      "execution_count": null,
      "outputs": []
    },
    {
      "cell_type": "code",
      "source": [
        "viterbi(observation)"
      ],
      "metadata": {
        "colab": {
          "base_uri": "https://localhost:8080/"
        },
        "id": "wyELOaDikcwV",
        "outputId": "41cc2169-5fd3-4dfe-cbcb-c80fb4a989ae"
      },
      "execution_count": null,
      "outputs": [
        {
          "output_type": "execute_result",
          "data": {
            "text/plain": [
              "([2, 1, 1, 2, 2], 2.1599999999999996e-05)"
            ]
          },
          "metadata": {},
          "execution_count": 11
        }
      ]
    },
    {
      "cell_type": "markdown",
      "source": [
        "Looks good."
      ],
      "metadata": {
        "id": "_Z1jRhlJr4a4"
      }
    }
  ]
}